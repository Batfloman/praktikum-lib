{
 "cells": [
  {
   "cell_type": "code",
   "execution_count": 1,
   "metadata": {},
   "outputs": [
    {
     "name": "stdout",
     "output_type": "stream",
     "text": [
      "e:\\coding\\git\\uni-obsidian\\Praktikum\n"
     ]
    }
   ],
   "source": [
    "import os\n",
    "import sys\n",
    "\n",
    "_dir = os.path.abspath('')\n",
    "_dir = os.path.dirname(_dir)\n",
    "_dir = os.path.dirname(_dir)\n",
    "print(_dir)\n",
    "sys.path.append(_dir)"
   ]
  },
  {
   "cell_type": "markdown",
   "metadata": {},
   "source": [
    "<hr/>"
   ]
  },
  {
   "cell_type": "code",
   "execution_count": 2,
   "metadata": {},
   "outputs": [],
   "source": [
    "from util.structs import Measurement"
   ]
  },
  {
   "cell_type": "code",
   "execution_count": 3,
   "metadata": {},
   "outputs": [
    {
     "name": "stdout",
     "output_type": "stream",
     "text": [
      "99.94 0.09994\n",
      "99940(100)e-3\n",
      "99.94(10)\n",
      "0.09994(10)e3\n"
     ]
    }
   ],
   "source": [
    "a = Measurement(99.94, \"0.1%\")\n",
    "print(a.value, a.error)\n",
    "# a.additional_digits = 2\n",
    "print(a.to_str_bracket(exponent=-3))\n",
    "print(a)\n",
    "print(a.to_str_bracket(exponent=3))"
   ]
  },
  {
   "cell_type": "code",
   "execution_count": 4,
   "metadata": {},
   "outputs": [
    {
     "name": "stdout",
     "output_type": "stream",
     "text": [
      "987.5(10)e-6\n",
      "9.875(10)e-3\n",
      "98.75(10)e-3\n",
      "987.5(10)e-3\n",
      "9.875(10)\n",
      "98.75(10)\n",
      "987.5(10)\n",
      "9.875(10)e3\n",
      "98.75(10)e3\n",
      "987.5(10)e3\n",
      "9.875(10)e6\n"
     ]
    }
   ],
   "source": [
    "import numpy as np\n",
    "\n",
    "startval = 98.751234\n",
    "\n",
    "for a in np.linspace(-5, 5, 11):\n",
    "    b = Measurement(startval * 10**a, \".1%\")\n",
    "    print(b)"
   ]
  },
  {
   "cell_type": "code",
   "execution_count": 5,
   "metadata": {},
   "outputs": [
    {
     "name": "stdout",
     "output_type": "stream",
     "text": [
      "98752.13(9876)e-5\n",
      "9875.213(9876)e-4\n",
      "987.5213(9876)e-3\n",
      "98.75213(9876)e-2\n",
      "9.875213(9876)e-1\n",
      "0.9875213(9876)\n",
      "0.09875213(9876)e1\n",
      "0.009875213(9876)e2\n",
      "0.0009875213(9876)e3\n",
      "0.00009875213(9876)e4\n",
      "0.000009875213(9876)e5\n"
     ]
    }
   ],
   "source": [
    "import numpy as np\n",
    "\n",
    "startval = .98752134\n",
    "\n",
    "for a in np.linspace(-5, 5, 11):\n",
    "    b = Measurement(startval, \".1%\")\n",
    "    b.additional_digits=3\n",
    "    print(b.to_str_bracket(exponent=a))"
   ]
  },
  {
   "cell_type": "code",
   "execution_count": 6,
   "metadata": {},
   "outputs": [
    {
     "name": "stdout",
     "output_type": "stream",
     "text": [
      "[['$\\\\Phi$ [$\\\\times 10^{1}$ sW/m]' 'bc [$\\\\times 10^{-10}$ ]'\n",
      "  'd [$\\\\times 10^{3}$ m]']\n",
      " ['0.1' Measurement(value=10000000000.0, error=100000000.0) '-']\n",
      " ['2.0' Measurement(value=200000000000.0, error=2000000000.0) '-']\n",
      " ['30.0' Measurement(value=3000000000000.0, error=30000000000.0) '-']\n",
      " ['400.0' Measurement(value=40000000000000.0, error=400000000000.0) '-']\n",
      " ['-' Measurement(value=100000000000.0, error=1000000000.0) '0.512']\n",
      " ['-' 120000000000.0 '0.512']]\n",
      "Successfully exported table output.tex to e:\\coding\\git\\uni-obsidian\\Praktikum\\util\\structs\\output.tex\n"
     ]
    }
   ],
   "source": [
    "from util.structs import DataCluster, Dataset, Measurement\n",
    "\n",
    "data = DataCluster()\n",
    "\n",
    "for x in [1, 20, 300, 4000]:\n",
    "    data.add(Dataset({\"a\": x, \"bc\": Measurement(x, \"1%\")}))\n",
    "data.add(Dataset({\"bc\": Measurement(10, \"1%\"), \"d\": 512}))\n",
    "data.add(Dataset({\"bc\": 12, \"d\": 512}))\n",
    "\n",
    "data._set_column_metadata(\"a\", name=r\"$\\Phi$\", unit=\"sW/m\", display_exponent=1)\n",
    "data._set_column_metadata(\"bc\", display_exponent=-10)\n",
    "data._set_column_metadata(\"d\", display_exponent=3, unit=\"m\")\n",
    "\n",
    "print(data.create_display_array())\n",
    "\n",
    "data.save_latex(\"./output\")"
   ]
  },
  {
   "cell_type": "markdown",
   "metadata": {},
   "source": []
  },
  {
   "cell_type": "code",
   "execution_count": 7,
   "metadata": {},
   "outputs": [
    {
     "name": "stdout",
     "output_type": "stream",
     "text": [
      "[100 200 300]\n"
     ]
    }
   ],
   "source": [
    "import numpy as np\n",
    "\n",
    "# arr1 = np.array([])\n",
    "arr2 = np.array([1,2,3])\n",
    "# arr3 = np.array([4,4])\n",
    "\n",
    "arr2 *= 10**2\n",
    "print(arr2)\n",
    "# print(np.vstack([arr1, arr2, arr3]))"
   ]
  },
  {
   "cell_type": "code",
   "execution_count": null,
   "metadata": {},
   "outputs": [],
   "source": []
  }
 ],
 "metadata": {
  "kernelspec": {
   "display_name": "Python 3",
   "language": "python",
   "name": "python3"
  },
  "language_info": {
   "codemirror_mode": {
    "name": "ipython",
    "version": 3
   },
   "file_extension": ".py",
   "mimetype": "text/x-python",
   "name": "python",
   "nbconvert_exporter": "python",
   "pygments_lexer": "ipython3",
   "version": "3.13.2"
  }
 },
 "nbformat": 4,
 "nbformat_minor": 2
}
